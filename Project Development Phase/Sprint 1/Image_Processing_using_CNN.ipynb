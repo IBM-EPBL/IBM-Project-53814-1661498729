{
 "cells": [
  {
   "cell_type": "code",
   "execution_count": 1,
   "id": "68245039",
   "metadata": {},
   "outputs": [],
   "source": [
    "from keras.preprocessing.image import ImageDataGenerator\n",
    "import numpy as np#used for numerical analysis\n",
    "import tensorflow #open source used for both ML and DL for computation\n",
    "from tensorflow.keras.models import Sequential #it is a plain stack of Layers\n",
    "from tensorflow.keras import layers #A Layer consists of a tensor-in tensor-out computation function\n",
    "#Dense Layer is the regular deeply connected neural network Layer\n",
    "from tensorflow.keras.layers import Dense, Flatten\n",
    "#Faltten-used fot flattening the input or change the dimension\n",
    "from tensorflow.keras.layers import Conv2D, MaxPooling2D,Dropout #Convolutional layer\n",
    "#MaxPooling2D-for downsampling the image\n",
    "from keras.preprocessing.image import ImageDataGenerator"
   ]
  },
  {
   "cell_type": "code",
   "execution_count": 2,
   "id": "2110dee0",
   "metadata": {},
   "outputs": [],
   "source": [
    "train_datagen = ImageDataGenerator(rescale=1./255,shear_range=0.2,zoom_range=0.2,horizontal_flip=True)\n",
    "test_datagen=ImageDataGenerator(rescale=1./255)"
   ]
  },
  {
   "cell_type": "code",
   "execution_count": 5,
   "id": "9a1eb0c0",
   "metadata": {},
   "outputs": [
    {
     "name": "stdout",
     "output_type": "stream",
     "text": [
      "Found 4118 images belonging to 5 classes.\n",
      "Found 929 images belonging to 5 classes.\n"
     ]
    }
   ],
   "source": [
    "x_train = train_datagen.flow_from_directory(\n",
    "    r'C:\\Users\\nedum\\OneDrive\\Documents\\IBM\\Nutrition Analyzer\\Dataset\\TRAIN_SET',\n",
    "    target_size=(64, 64),batch_size=5,color_mode='rgb',class_mode='sparse')\n",
    "x_test = test_datagen.flow_from_directory(\n",
    "    r'C:\\Users\\nedum\\OneDrive\\Documents\\IBM\\Nutrition Analyzer\\Dataset\\TEST_SET',\n",
    "    target_size=(64, 64),batch_size=5,color_mode='rgb',class_mode='sparse') "
   ]
  },
  {
   "cell_type": "code",
   "execution_count": 6,
   "id": "c297f559",
   "metadata": {},
   "outputs": [
    {
     "name": "stdout",
     "output_type": "stream",
     "text": [
      "{'APPLES': 0, 'BANANA': 1, 'ORANGE': 2, 'PINEAPPLE': 3, 'WATERMELON': 4}\n"
     ]
    }
   ],
   "source": [
    "print(x_train.class_indices)#checking the number of classes"
   ]
  },
  {
   "cell_type": "code",
   "execution_count": 7,
   "id": "2a6458d1",
   "metadata": {},
   "outputs": [
    {
     "name": "stdout",
     "output_type": "stream",
     "text": [
      "{'APPLES': 0, 'BANANA': 1, 'ORANGE': 2, 'PINEAPPLE': 3, 'WATERMELON': 4}\n"
     ]
    }
   ],
   "source": [
    "print(x_test.class_indices) #checking the number of classes"
   ]
  },
  {
   "cell_type": "code",
   "execution_count": 8,
   "id": "a2e8fc0d",
   "metadata": {},
   "outputs": [
    {
     "data": {
      "text/plain": [
       "Counter({0: 995, 1: 1354, 2: 1019, 3: 275, 4: 475})"
      ]
     },
     "execution_count": 8,
     "metadata": {},
     "output_type": "execute_result"
    }
   ],
   "source": [
    "from collections import Counter as c \n",
    "c(x_train .labels)"
   ]
  },
  {
   "cell_type": "code",
   "execution_count": 9,
   "id": "d306342c",
   "metadata": {},
   "outputs": [],
   "source": [
    "model=Sequential()"
   ]
  },
  {
   "cell_type": "code",
   "execution_count": 10,
   "id": "f56fc759",
   "metadata": {},
   "outputs": [],
   "source": [
    "# Initializing the CNN classifier = Sequential()\n",
    "classifier = Sequential()\n",
    "# First convolution layer and pooling\n",
    "classifier.add(Conv2D(32,(3, 3), input_shape=(64, 64, 3),activation='relu')) \n",
    "classifier.add(MaxPooling2D(pool_size=(2, 2)))\n",
    "# Second convolution layer and pooling\n",
    "classifier.add(Conv2D(32, (3, 3), activation='relu'))\n",
    "# input_shape is going to be the pooled feature maps from the previous convolution layer \n",
    "classifier.add(MaxPooling2D(pool_size=(2, 2)))\n",
    "# Flattening the Layers\n",
    "classifier.add(Flatten())\n",
    "# Adding fully connected Layer a\n",
    "classifier.add(Dense (units=128, activation='relu'))\n",
    "classifier.add(Dense (units=5, activation='softmax')) # softmax for more than 2"
   ]
  },
  {
   "cell_type": "code",
   "execution_count": 11,
   "id": "9bf4d319",
   "metadata": {},
   "outputs": [
    {
     "name": "stdout",
     "output_type": "stream",
     "text": [
      "Model: \"sequential_1\"\n",
      "_________________________________________________________________\n",
      " Layer (type)                Output Shape              Param #   \n",
      "=================================================================\n",
      " conv2d (Conv2D)             (None, 62, 62, 32)        896       \n",
      "                                                                 \n",
      " max_pooling2d (MaxPooling2D  (None, 31, 31, 32)       0         \n",
      " )                                                               \n",
      "                                                                 \n",
      " conv2d_1 (Conv2D)           (None, 29, 29, 32)        9248      \n",
      "                                                                 \n",
      " max_pooling2d_1 (MaxPooling  (None, 14, 14, 32)       0         \n",
      " 2D)                                                             \n",
      "                                                                 \n",
      " flatten (Flatten)           (None, 6272)              0         \n",
      "                                                                 \n",
      " dense (Dense)               (None, 128)               802944    \n",
      "                                                                 \n",
      " dense_1 (Dense)             (None, 5)                 645       \n",
      "                                                                 \n",
      "=================================================================\n",
      "Total params: 813,733\n",
      "Trainable params: 813,733\n",
      "Non-trainable params: 0\n",
      "_________________________________________________________________\n"
     ]
    }
   ],
   "source": [
    "classifier.summary()"
   ]
  },
  {
   "cell_type": "code",
   "execution_count": 12,
   "id": "a9431fec",
   "metadata": {},
   "outputs": [],
   "source": [
    "classifier.compile(optimizer='adam', loss='sparse_categorical_crossentropy', metrics=['accuracy'])"
   ]
  },
  {
   "cell_type": "code",
   "execution_count": 13,
   "id": "1e337fce",
   "metadata": {},
   "outputs": [
    {
     "name": "stderr",
     "output_type": "stream",
     "text": [
      "C:\\Users\\nedum\\AppData\\Local\\Temp\\ipykernel_19100\\2706448856.py:2: UserWarning: `Model.fit_generator` is deprecated and will be removed in a future version. Please use `Model.fit`, which supports generators.\n",
      "  classifier.fit_generator(\n"
     ]
    },
    {
     "name": "stdout",
     "output_type": "stream",
     "text": [
      "Epoch 1/20\n",
      "824/824 [==============================] - 76s 91ms/step - loss: 0.6266 - accuracy: 0.7545 - val_loss: 0.4830 - val_accuracy: 0.8170\n",
      "Epoch 2/20\n",
      "824/824 [==============================] - 22s 27ms/step - loss: 0.4155 - accuracy: 0.8417 - val_loss: 0.4452 - val_accuracy: 0.8321\n",
      "Epoch 3/20\n",
      "824/824 [==============================] - 21s 26ms/step - loss: 0.3774 - accuracy: 0.8528 - val_loss: 0.5074 - val_accuracy: 0.8052\n",
      "Epoch 4/20\n",
      "824/824 [==============================] - 21s 25ms/step - loss: 0.3492 - accuracy: 0.8691 - val_loss: 0.3952 - val_accuracy: 0.8536\n",
      "Epoch 5/20\n",
      "824/824 [==============================] - 21s 25ms/step - loss: 0.3044 - accuracy: 0.8776 - val_loss: 0.4120 - val_accuracy: 0.8471\n",
      "Epoch 6/20\n",
      "824/824 [==============================] - 20s 24ms/step - loss: 0.3083 - accuracy: 0.8803 - val_loss: 0.4184 - val_accuracy: 0.8504\n",
      "Epoch 7/20\n",
      "824/824 [==============================] - 21s 26ms/step - loss: 0.2929 - accuracy: 0.8912 - val_loss: 0.4417 - val_accuracy: 0.8149\n",
      "Epoch 8/20\n",
      "824/824 [==============================] - 21s 25ms/step - loss: 0.2832 - accuracy: 0.8946 - val_loss: 0.3679 - val_accuracy: 0.8654\n",
      "Epoch 9/20\n",
      "824/824 [==============================] - 25s 31ms/step - loss: 0.2637 - accuracy: 0.8987 - val_loss: 0.3795 - val_accuracy: 0.8601\n",
      "Epoch 10/20\n",
      "824/824 [==============================] - 21s 25ms/step - loss: 0.2493 - accuracy: 0.9111 - val_loss: 0.3640 - val_accuracy: 0.8730\n",
      "Epoch 11/20\n",
      "824/824 [==============================] - 31s 37ms/step - loss: 0.2321 - accuracy: 0.9131 - val_loss: 0.4445 - val_accuracy: 0.8525\n",
      "Epoch 12/20\n",
      "824/824 [==============================] - 19s 24ms/step - loss: 0.2111 - accuracy: 0.9203 - val_loss: 0.3142 - val_accuracy: 0.8870\n",
      "Epoch 13/20\n",
      "824/824 [==============================] - 23s 28ms/step - loss: 0.2023 - accuracy: 0.9237 - val_loss: 0.3607 - val_accuracy: 0.8622\n",
      "Epoch 14/20\n",
      "824/824 [==============================] - 25s 30ms/step - loss: 0.2030 - accuracy: 0.9259 - val_loss: 0.3509 - val_accuracy: 0.8902\n",
      "Epoch 15/20\n",
      "824/824 [==============================] - 20s 25ms/step - loss: 0.1835 - accuracy: 0.9318 - val_loss: 0.6032 - val_accuracy: 0.8299\n",
      "Epoch 16/20\n",
      "824/824 [==============================] - 20s 24ms/step - loss: 0.1742 - accuracy: 0.9371 - val_loss: 0.3728 - val_accuracy: 0.8902\n",
      "Epoch 17/20\n",
      "824/824 [==============================] - 20s 24ms/step - loss: 0.1678 - accuracy: 0.9359 - val_loss: 0.3441 - val_accuracy: 0.8848\n",
      "Epoch 18/20\n",
      "824/824 [==============================] - 27s 33ms/step - loss: 0.1398 - accuracy: 0.9480 - val_loss: 0.3905 - val_accuracy: 0.8988\n",
      "Epoch 19/20\n",
      "824/824 [==============================] - 22s 27ms/step - loss: 0.1473 - accuracy: 0.9439 - val_loss: 0.4603 - val_accuracy: 0.8719\n",
      "Epoch 20/20\n",
      "824/824 [==============================] - 24s 29ms/step - loss: 0.1617 - accuracy: 0.9454 - val_loss: 0.3374 - val_accuracy: 0.9020\n"
     ]
    },
    {
     "data": {
      "text/plain": [
       "<keras.callbacks.History at 0x229e6345400>"
      ]
     },
     "execution_count": 13,
     "metadata": {},
     "output_type": "execute_result"
    }
   ],
   "source": [
    "##Fitting the model\n",
    "classifier.fit_generator(\n",
    "    generator=x_train,steps_per_epoch = len(x_train), \n",
    "    epochs=20,validation_data=x_test,validation_steps = len(x_test)) # No of images in test set\n"
   ]
  },
  {
   "cell_type": "code",
   "execution_count": 14,
   "id": "264c451a",
   "metadata": {},
   "outputs": [],
   "source": [
    "classifier.save('nutrition.h5')"
   ]
  },
  {
   "cell_type": "code",
   "execution_count": 15,
   "id": "ce595013",
   "metadata": {},
   "outputs": [],
   "source": [
    "### Predicting our results\n",
    "from tensorflow.keras.models import load_model\n",
    "from keras.preprocessing import image\n",
    "model = load_model(\"nutrition.h5\") #Loading the model for testing\n",
    "from tensorflow.keras.preprocessing import image"
   ]
  },
  {
   "cell_type": "code",
   "execution_count": 20,
   "id": "d78447e0",
   "metadata": {},
   "outputs": [
    {
     "name": "stdout",
     "output_type": "stream",
     "text": [
      "1/1 [==============================] - 0s 34ms/step\n"
     ]
    },
    {
     "data": {
      "text/plain": [
       "array([[0., 0., 1., 0., 0.]], dtype=float32)"
      ]
     },
     "execution_count": 20,
     "metadata": {},
     "output_type": "execute_result"
    }
   ],
   "source": [
    "img =image.load_img(r\"C:\\Users\\nedum\\OneDrive\\Documents\\IBM\\Nutrition Analyzer\\Sample Images\\image2.jpg\",grayscale=False, target_size= (64,64))\n",
    "x = image.img_to_array(img)#image to array\n",
    "x = np.expand_dims(x,axis=0) #changing the shape =\n",
    "pred =model.predict(x)#predicting the classes =\n",
    "pred"
   ]
  },
  {
   "cell_type": "code",
   "execution_count": 21,
   "id": "eca73de1",
   "metadata": {},
   "outputs": [
    {
     "data": {
      "text/plain": [
       "'ORANGE'"
      ]
     },
     "execution_count": 21,
     "metadata": {},
     "output_type": "execute_result"
    }
   ],
   "source": [
    "labels=['APPLES', 'BANANA', 'ORANGE','PINEAPPLE','WATERMELON']\n",
    "labels[np.argmax(pred)]"
   ]
  },
  {
   "cell_type": "code",
   "execution_count": null,
   "id": "13a8a119",
   "metadata": {},
   "outputs": [],
   "source": []
  }
 ],
 "metadata": {
  "kernelspec": {
   "display_name": "Python 3 (ipykernel)",
   "language": "python",
   "name": "python3"
  },
  "language_info": {
   "codemirror_mode": {
    "name": "ipython",
    "version": 3
   },
   "file_extension": ".py",
   "mimetype": "text/x-python",
   "name": "python",
   "nbconvert_exporter": "python",
   "pygments_lexer": "ipython3",
   "version": "3.9.13"
  }
 },
 "nbformat": 4,
 "nbformat_minor": 5
}
